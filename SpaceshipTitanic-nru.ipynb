{
 "cells": [
  {
   "cell_type": "code",
   "execution_count": 27,
   "metadata": {
    "collapsed": true,
    "ExecuteTime": {
     "end_time": "2024-04-09T19:19:52.008082700Z",
     "start_time": "2024-04-09T19:19:52.000104500Z"
    }
   },
   "outputs": [],
   "source": [
    "#import tensorflow as tf\n",
    "#import tensorflow_decision_forests as tfdf\n",
    "import pandas as pd\n",
    "import numpy as np\n",
    "import seaborn as sns\n",
    "import matplotlib.pyplot as plt\n",
    "import sklearn as sk\n",
    "from sklearn.ensemble import RandomForestClassifier\n",
    "from sklearn.ensemble import HistGradientBoostingClassifier\n",
    "from sklearn.metrics import accuracy_score\n",
    "from sklearn.model_selection import train_test_split"
   ]
  },
  {
   "cell_type": "code",
   "execution_count": 28,
   "outputs": [],
   "source": [
    "# read test file\n",
    "testSet = pd.read_csv('./test.csv')\n",
    "\n",
    "IDColforConcat = testSet[[\"PassengerId\"]]\n",
    "\n",
    "testSet[[\"Deck\", \"Cabin_Nr\", \"Side\"]] = testSet[\"Cabin\"].str.split(\"/\", expand=True)\n",
    "\n",
    "# remove potentially misleading or irrelevant columns\n",
    "testSet = testSet.drop(['PassengerId' , 'Name', 'Cabin'], axis=1)\n",
    "#y_testTargetCol = testSet[\"Transported\"]"
   ],
   "metadata": {
    "collapsed": false,
    "ExecuteTime": {
     "end_time": "2024-04-09T19:19:52.040994800Z",
     "start_time": "2024-04-09T19:19:52.007084300Z"
    }
   }
  },
  {
   "cell_type": "code",
   "execution_count": 29,
   "outputs": [
    {
     "name": "stdout",
     "output_type": "stream",
     "text": [
      "     HomePlanet    Destination   Age  RoomService  FoodCourt  ShoppingMall  \\\n",
      "0        Europa    TRAPPIST-1e  39.0          0.0        0.0           0.0   \n",
      "1         Earth    TRAPPIST-1e  24.0        109.0        9.0          25.0   \n",
      "2        Europa    TRAPPIST-1e  58.0         43.0     3576.0           0.0   \n",
      "3        Europa    TRAPPIST-1e  33.0          0.0     1283.0         371.0   \n",
      "4         Earth    TRAPPIST-1e  16.0        303.0       70.0         151.0   \n",
      "...         ...            ...   ...          ...        ...           ...   \n",
      "8688     Europa    55 Cancri e  41.0          0.0     6819.0           0.0   \n",
      "8689      Earth  PSO J318.5-22  18.0          0.0        0.0           0.0   \n",
      "8690      Earth    TRAPPIST-1e  26.0          0.0        0.0        1872.0   \n",
      "8691     Europa    55 Cancri e  32.0          0.0     1049.0           0.0   \n",
      "8692     Europa    TRAPPIST-1e  44.0        126.0     4688.0           0.0   \n",
      "\n",
      "         Spa  VRDeck Deck Side  \n",
      "0        0.0     0.0    B    P  \n",
      "1      549.0    44.0    F    S  \n",
      "2     6715.0    49.0    A    S  \n",
      "3     3329.0   193.0    A    S  \n",
      "4      565.0     2.0    F    S  \n",
      "...      ...     ...  ...  ...  \n",
      "8688  1643.0    74.0    A    P  \n",
      "8689     0.0     0.0    G    S  \n",
      "8690     1.0     0.0    G    S  \n",
      "8691   353.0  3235.0    E    S  \n",
      "8692     0.0    12.0    E    S  \n",
      "\n",
      "[8693 rows x 10 columns]\n"
     ]
    }
   ],
   "source": [
    "# read training file\n",
    "trainingSet = pd.read_csv('./train.csv')\n",
    "\n",
    "# extrapolate target column\n",
    "y_targetCol = trainingSet[\"Transported\"]\n",
    "\n",
    "# split Cabin column into three: Deck - Cabin_Nr - Side\n",
    "trainingSet[[\"Deck\", \"Cabin_Nr\", \"Side\"]] = trainingSet[\"Cabin\"].str.split(\"/\", expand=True)\n",
    "\n",
    "# remove potentially misleading or irrelevant columns\n",
    "trainingSet = trainingSet.drop(['PassengerId' , 'Name', 'Cabin', 'Transported'], axis=1)\n",
    "\n",
    "#debugging option\n",
    "# print(trainingSet)\n",
    "\n"
   ],
   "metadata": {
    "collapsed": false,
    "ExecuteTime": {
     "end_time": "2024-04-09T19:19:52.177628100Z",
     "start_time": "2024-04-09T19:19:52.039997100Z"
    }
   }
  },
  {
   "cell_type": "code",
   "execution_count": 30,
   "outputs": [],
   "source": [
    "# get target column and shorten set-variablename\n",
    "y = y_targetCol;\n",
    "x = trainingSet;\n",
    "\n",
    "# split training data for evaluation into a fitting part (used to train the algorithm) and the part that can be tested against to find out accuracy\n",
    "xtrain, xtest,ytrain, ytest = train_test_split(x,y, test_size=0.3, random_state=666)\n",
    "\n",
    "\n",
    "\n",
    "# categorical_feature: ist es ein numerisches (aka zahlen) oder ein kategorisches feature\n",
    "ml_est = HistGradientBoostingClassifier(categorical_features=[True, False, True, False, False,False,False,False,False,False,True,False,True]);\n",
    "ml_est.fit(xtrain,ytrain);\n",
    "\n"
   ],
   "metadata": {
    "collapsed": false,
    "ExecuteTime": {
     "end_time": "2024-04-09T19:19:52.624706100Z",
     "start_time": "2024-04-09T19:19:52.169651900Z"
    }
   }
  },
  {
   "cell_type": "code",
   "execution_count": 31,
   "outputs": [],
   "source": [
    " # y = df_train_full[\"SalePrice\"]\n",
    " #    X = df_train_full.drop(columns=[\"SalePrice\", \"Id\"])\n",
    " #    X_train, X_test, y_train, y_test = train_test_split(X, y, test_size=0.2, random_state=666)\n",
    " #\n",
    " #    ml_est = training(X_train, np.log(y_train))\n",
    " #    train_evaluation(ml_est, X_test, y_test)\n",
    " #\n",
    " #    ml_est = training(X, np.log(y))\n",
    " #    yhat_train_full = train_evaluation(ml_est, X, y)"
   ],
   "metadata": {
    "collapsed": false,
    "ExecuteTime": {
     "end_time": "2024-04-09T19:19:52.624706100Z",
     "start_time": "2024-04-09T19:19:52.615731300Z"
    }
   }
  },
  {
   "cell_type": "code",
   "execution_count": 32,
   "outputs": [],
   "source": [
    "yhat = ml_est.predict(xtest)\n"
   ],
   "metadata": {
    "collapsed": false,
    "ExecuteTime": {
     "end_time": "2024-04-09T19:19:52.668589400Z",
     "start_time": "2024-04-09T19:19:52.619719900Z"
    }
   }
  },
  {
   "cell_type": "code",
   "execution_count": 33,
   "outputs": [
    {
     "data": {
      "text/plain": "0.8177113283496262"
     },
     "execution_count": 33,
     "metadata": {},
     "output_type": "execute_result"
    }
   ],
   "source": [
    "accuracy_score(ytest, yhat)"
   ],
   "metadata": {
    "collapsed": false,
    "ExecuteTime": {
     "end_time": "2024-04-09T19:19:52.669587700Z",
     "start_time": "2024-04-09T19:19:52.649641200Z"
    }
   }
  },
  {
   "cell_type": "code",
   "execution_count": 36,
   "outputs": [],
   "source": [
    "y_test_fin = ml_est.predict(testSet)\n",
    "# y_test"
   ],
   "metadata": {
    "collapsed": false,
    "ExecuteTime": {
     "end_time": "2024-04-09T19:20:03.023967700Z",
     "start_time": "2024-04-09T19:20:02.983080100Z"
    }
   }
  },
  {
   "cell_type": "code",
   "execution_count": 35,
   "outputs": [],
   "source": [
    "# put columns together PassengerID and prediction of transport\n",
    "#submission = pd.concat([IDColforConcat, y_test], axis=1)\n",
    "#submission"
   ],
   "metadata": {
    "collapsed": false,
    "ExecuteTime": {
     "end_time": "2024-04-09T19:19:52.742391600Z",
     "start_time": "2024-04-09T19:19:52.708484400Z"
    }
   }
  },
  {
   "cell_type": "code",
   "execution_count": 35,
   "outputs": [],
   "source": [],
   "metadata": {
    "collapsed": false,
    "ExecuteTime": {
     "end_time": "2024-04-09T19:19:52.743389200Z",
     "start_time": "2024-04-09T19:19:52.715464Z"
    }
   }
  }
 ],
 "metadata": {
  "kernelspec": {
   "display_name": "Python 3",
   "language": "python",
   "name": "python3"
  },
  "language_info": {
   "codemirror_mode": {
    "name": "ipython",
    "version": 2
   },
   "file_extension": ".py",
   "mimetype": "text/x-python",
   "name": "python",
   "nbconvert_exporter": "python",
   "pygments_lexer": "ipython2",
   "version": "2.7.6"
  }
 },
 "nbformat": 4,
 "nbformat_minor": 0
}
